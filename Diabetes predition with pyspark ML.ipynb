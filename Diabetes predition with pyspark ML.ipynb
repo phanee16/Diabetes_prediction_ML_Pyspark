{
 "cells": [
  {
   "cell_type": "code",
   "execution_count": 1,
   "id": "53b545e6",
   "metadata": {},
   "outputs": [],
   "source": [
    "import pyspark"
   ]
  },
  {
   "cell_type": "code",
   "execution_count": 2,
   "id": "fd14fdad",
   "metadata": {},
   "outputs": [],
   "source": [
    "from pyspark.sql import SparkSession\n"
   ]
  },
  {
   "cell_type": "markdown",
   "id": "68450e49",
   "metadata": {},
   "source": [
    "create a sparksession"
   ]
  },
  {
   "cell_type": "code",
   "execution_count": 3,
   "id": "be275072",
   "metadata": {},
   "outputs": [
    {
     "name": "stderr",
     "output_type": "stream",
     "text": [
      "Setting default log level to \"WARN\".\n",
      "To adjust logging level use sc.setLogLevel(newLevel). For SparkR, use setLogLevel(newLevel).\n"
     ]
    },
    {
     "name": "stdout",
     "output_type": "stream",
     "text": [
      "23/02/05 16:34:52 WARN NativeCodeLoader: Unable to load native-hadoop library for your platform... using builtin-java classes where applicable\n",
      "23/02/05 16:34:53 WARN Utils: Service 'SparkUI' could not bind on port 4040. Attempting port 4041.\n",
      "23/02/05 16:34:53 WARN Utils: Service 'SparkUI' could not bind on port 4041. Attempting port 4042.\n",
      "23/02/05 16:34:53 WARN Utils: Service 'SparkUI' could not bind on port 4042. Attempting port 4043.\n"
     ]
    }
   ],
   "source": [
    "spark = SparkSession.builder.appName('Diabetes').getOrCreate()"
   ]
  },
  {
   "cell_type": "code",
   "execution_count": 4,
   "id": "15940960",
   "metadata": {},
   "outputs": [
    {
     "data": {
      "text/html": [
       "\n",
       "            <div>\n",
       "                <p><b>SparkSession - in-memory</b></p>\n",
       "                \n",
       "        <div>\n",
       "            <p><b>SparkContext</b></p>\n",
       "\n",
       "            <p><a href=\"http://venkatas-mbp-2.lan:4043\">Spark UI</a></p>\n",
       "\n",
       "            <dl>\n",
       "              <dt>Version</dt>\n",
       "                <dd><code>v3.3.1</code></dd>\n",
       "              <dt>Master</dt>\n",
       "                <dd><code>local[*]</code></dd>\n",
       "              <dt>AppName</dt>\n",
       "                <dd><code>Diabetes</code></dd>\n",
       "            </dl>\n",
       "        </div>\n",
       "        \n",
       "            </div>\n",
       "        "
      ],
      "text/plain": [
       "<pyspark.sql.session.SparkSession at 0x7f97484dde50>"
      ]
     },
     "execution_count": 4,
     "metadata": {},
     "output_type": "execute_result"
    }
   ],
   "source": [
    "spark"
   ]
  },
  {
   "cell_type": "markdown",
   "id": "68adaf92",
   "metadata": {},
   "source": [
    "Load and explore the dataset"
   ]
  },
  {
   "cell_type": "code",
   "execution_count": 5,
   "id": "99206449",
   "metadata": {},
   "outputs": [
    {
     "name": "stderr",
     "output_type": "stream",
     "text": [
      "                                                                                \r"
     ]
    }
   ],
   "source": [
    "diabetes_df = spark.read.csv('diabetes.csv',header = True,inferSchema = True)"
   ]
  },
  {
   "cell_type": "code",
   "execution_count": 6,
   "id": "cff565e3",
   "metadata": {},
   "outputs": [
    {
     "name": "stdout",
     "output_type": "stream",
     "text": [
      "+-----------+-------+-------------+-------------+-------+----+------------------------+---+-------+\n",
      "|Pregnancies|Glucose|BloodPressure|SkinThickness|Insulin| BMI|DiabetesPedigreeFunction|Age|Outcome|\n",
      "+-----------+-------+-------------+-------------+-------+----+------------------------+---+-------+\n",
      "|          6|    148|           72|           35|      0|33.6|                   0.627| 50|      1|\n",
      "|          1|     85|           66|           29|      0|26.6|                   0.351| 31|      0|\n",
      "|          8|    183|           64|            0|      0|23.3|                   0.672| 32|      1|\n",
      "|          1|     89|           66|           23|     94|28.1|                   0.167| 21|      0|\n",
      "|          0|    137|           40|           35|    168|43.1|                   2.288| 33|      1|\n",
      "|          5|    116|           74|            0|      0|25.6|                   0.201| 30|      0|\n",
      "|          3|     78|           50|           32|     88|31.0|                   0.248| 26|      1|\n",
      "|         10|    115|            0|            0|      0|35.3|                   0.134| 29|      0|\n",
      "|          2|    197|           70|           45|    543|30.5|                   0.158| 53|      1|\n",
      "|          8|    125|           96|            0|      0| 0.0|                   0.232| 54|      1|\n",
      "|          4|    110|           92|            0|      0|37.6|                   0.191| 30|      0|\n",
      "|         10|    168|           74|            0|      0|38.0|                   0.537| 34|      1|\n",
      "|         10|    139|           80|            0|      0|27.1|                   1.441| 57|      0|\n",
      "|          1|    189|           60|           23|    846|30.1|                   0.398| 59|      1|\n",
      "|          5|    166|           72|           19|    175|25.8|                   0.587| 51|      1|\n",
      "|          7|    100|            0|            0|      0|30.0|                   0.484| 32|      1|\n",
      "|          0|    118|           84|           47|    230|45.8|                   0.551| 31|      1|\n",
      "|          7|    107|           74|            0|      0|29.6|                   0.254| 31|      1|\n",
      "|          1|    103|           30|           38|     83|43.3|                   0.183| 33|      0|\n",
      "|          1|    115|           70|           30|     96|34.6|                   0.529| 32|      1|\n",
      "+-----------+-------+-------------+-------------+-------+----+------------------------+---+-------+\n",
      "only showing top 20 rows\n",
      "\n"
     ]
    }
   ],
   "source": [
    "diabetes_df.show()"
   ]
  },
  {
   "cell_type": "code",
   "execution_count": 7,
   "id": "52edc186",
   "metadata": {},
   "outputs": [
    {
     "name": "stdout",
     "output_type": "stream",
     "text": [
      "root\n",
      " |-- Pregnancies: integer (nullable = true)\n",
      " |-- Glucose: integer (nullable = true)\n",
      " |-- BloodPressure: integer (nullable = true)\n",
      " |-- SkinThickness: integer (nullable = true)\n",
      " |-- Insulin: integer (nullable = true)\n",
      " |-- BMI: double (nullable = true)\n",
      " |-- DiabetesPedigreeFunction: double (nullable = true)\n",
      " |-- Age: integer (nullable = true)\n",
      " |-- Outcome: integer (nullable = true)\n",
      "\n"
     ]
    }
   ],
   "source": [
    "# Print the schema\n",
    "diabetes_df.printSchema()"
   ]
  },
  {
   "cell_type": "code",
   "execution_count": 8,
   "id": "342ef6c7",
   "metadata": {},
   "outputs": [
    {
     "name": "stdout",
     "output_type": "stream",
     "text": [
      "(768, 9)\n"
     ]
    }
   ],
   "source": [
    "# get the dimensions of the data\n",
    "print((diabetes_df.count(),len(diabetes_df.columns)))"
   ]
  },
  {
   "cell_type": "code",
   "execution_count": 9,
   "id": "8fa9cdf1",
   "metadata": {},
   "outputs": [
    {
     "data": {
      "text/plain": [
       "['Pregnancies',\n",
       " 'Glucose',\n",
       " 'BloodPressure',\n",
       " 'SkinThickness',\n",
       " 'Insulin',\n",
       " 'BMI',\n",
       " 'DiabetesPedigreeFunction',\n",
       " 'Age',\n",
       " 'Outcome']"
      ]
     },
     "execution_count": 9,
     "metadata": {},
     "output_type": "execute_result"
    }
   ],
   "source": [
    "# Check the columsn of the data\n",
    "diabetes_df.columns"
   ]
  },
  {
   "cell_type": "code",
   "execution_count": 10,
   "id": "045c4e9b",
   "metadata": {},
   "outputs": [
    {
     "name": "stdout",
     "output_type": "stream",
     "text": [
      "+-------+-----+\n",
      "|Outcome|count|\n",
      "+-------+-----+\n",
      "|      1|  268|\n",
      "|      0|  500|\n",
      "+-------+-----+\n",
      "\n"
     ]
    }
   ],
   "source": [
    "#Count the total number of diabetes and non-diabetic classes\n",
    "diabetes_df.groupby('Outcome').count().show()"
   ]
  },
  {
   "cell_type": "code",
   "execution_count": 11,
   "id": "91f5688a",
   "metadata": {},
   "outputs": [
    {
     "name": "stdout",
     "output_type": "stream",
     "text": [
      "+-------+------------------+-----------------+------------------+------------------+------------------+------------------+------------------------+------------------+------------------+\n",
      "|summary|       Pregnancies|          Glucose|     BloodPressure|     SkinThickness|           Insulin|               BMI|DiabetesPedigreeFunction|               Age|           Outcome|\n",
      "+-------+------------------+-----------------+------------------+------------------+------------------+------------------+------------------------+------------------+------------------+\n",
      "|  count|               768|              768|               768|               768|               768|               768|                     768|               768|               768|\n",
      "|   mean|3.8450520833333335|     120.89453125|       69.10546875|20.536458333333332| 79.79947916666667|31.992578124999977|      0.4718763020833327|33.240885416666664|0.3489583333333333|\n",
      "| stddev|  3.36957806269887|31.97261819513622|19.355807170644777|15.952217567727642|115.24400235133803| 7.884160320375441|       0.331328595012775|11.760231540678689| 0.476951377242799|\n",
      "|    min|                 0|                0|                 0|                 0|                 0|               0.0|                   0.078|                21|                 0|\n",
      "|    max|                17|              199|               122|                99|               846|              67.1|                    2.42|                81|                 1|\n",
      "+-------+------------------+-----------------+------------------+------------------+------------------+------------------+------------------------+------------------+------------------+\n",
      "\n"
     ]
    }
   ],
   "source": [
    "# get the summary statistics\n",
    "diabetes_df.describe().show()"
   ]
  },
  {
   "cell_type": "code",
   "execution_count": 12,
   "id": "6ec24fdc",
   "metadata": {},
   "outputs": [
    {
     "name": "stdout",
     "output_type": "stream",
     "text": [
      "Pregnancies: 0\n",
      "Glucose: 0\n",
      "BloodPressure: 0\n",
      "SkinThickness: 0\n",
      "Insulin: 0\n",
      "BMI: 0\n",
      "DiabetesPedigreeFunction: 0\n",
      "Age: 0\n",
      "Outcome: 0\n"
     ]
    }
   ],
   "source": [
    "# Check for null values\n",
    "for i in diabetes_df.columns:\n",
    "    print(i+ \":\" , diabetes_df[diabetes_df[i].isNull()].count())"
   ]
  },
  {
   "cell_type": "code",
   "execution_count": 13,
   "id": "cd9daa35",
   "metadata": {},
   "outputs": [],
   "source": [
    "# Look for the unneccesary values present in the data\n",
    "def count_zeros():\n",
    "    columns_list = ['Glucose','BloodPressure','SkinThickness','Insulin','BMI']\n",
    "    for i in columns_list:\n",
    "        print(i+ \" : \" ,diabetes_df[diabetes_df[i]==0].count())"
   ]
  },
  {
   "cell_type": "code",
   "execution_count": 14,
   "id": "b8e319f2",
   "metadata": {},
   "outputs": [
    {
     "name": "stdout",
     "output_type": "stream",
     "text": [
      "Glucose :  5\n",
      "BloodPressure :  35\n",
      "SkinThickness :  227\n",
      "Insulin :  374\n",
      "BMI :  11\n"
     ]
    }
   ],
   "source": [
    "count_zeros()"
   ]
  },
  {
   "cell_type": "code",
   "execution_count": 15,
   "id": "5c2aeae8",
   "metadata": {},
   "outputs": [
    {
     "name": "stdout",
     "output_type": "stream",
     "text": [
      "The mean value for Glucose is 120 \n",
      "The mean value for BloodPressure is 69 \n",
      "The mean value for SkinThickness is 20 \n",
      "The mean value for Insulin is 79 \n",
      "The mean value for BMI is 31 \n"
     ]
    }
   ],
   "source": [
    "# Calculate and replace the unneccesary values with the mean of the column\n",
    "from pyspark.sql.functions import *\n",
    "for i in diabetes_df.columns[1:6]:\n",
    "    data = diabetes_df.agg({i:'mean'}).first()[0]\n",
    "    print('The mean value for {} is {} '.format(i,int(data)))\n",
    "    diabetes_df = diabetes_df.withColumn(i,when(diabetes_df[i]==0,int(data)).otherwise(diabetes_df[i]))"
   ]
  },
  {
   "cell_type": "code",
   "execution_count": 16,
   "id": "38e1f203",
   "metadata": {},
   "outputs": [
    {
     "name": "stdout",
     "output_type": "stream",
     "text": [
      "+-----------+-------+-------------+-------------+-------+----+------------------------+---+-------+\n",
      "|Pregnancies|Glucose|BloodPressure|SkinThickness|Insulin| BMI|DiabetesPedigreeFunction|Age|Outcome|\n",
      "+-----------+-------+-------------+-------------+-------+----+------------------------+---+-------+\n",
      "|          6|    148|           72|           35|     79|33.6|                   0.627| 50|      1|\n",
      "|          1|     85|           66|           29|     79|26.6|                   0.351| 31|      0|\n",
      "|          8|    183|           64|           20|     79|23.3|                   0.672| 32|      1|\n",
      "|          1|     89|           66|           23|     94|28.1|                   0.167| 21|      0|\n",
      "|          0|    137|           40|           35|    168|43.1|                   2.288| 33|      1|\n",
      "|          5|    116|           74|           20|     79|25.6|                   0.201| 30|      0|\n",
      "|          3|     78|           50|           32|     88|31.0|                   0.248| 26|      1|\n",
      "|         10|    115|           69|           20|     79|35.3|                   0.134| 29|      0|\n",
      "|          2|    197|           70|           45|    543|30.5|                   0.158| 53|      1|\n",
      "|          8|    125|           96|           20|     79|31.0|                   0.232| 54|      1|\n",
      "|          4|    110|           92|           20|     79|37.6|                   0.191| 30|      0|\n",
      "|         10|    168|           74|           20|     79|38.0|                   0.537| 34|      1|\n",
      "|         10|    139|           80|           20|     79|27.1|                   1.441| 57|      0|\n",
      "|          1|    189|           60|           23|    846|30.1|                   0.398| 59|      1|\n",
      "|          5|    166|           72|           19|    175|25.8|                   0.587| 51|      1|\n",
      "|          7|    100|           69|           20|     79|30.0|                   0.484| 32|      1|\n",
      "|          0|    118|           84|           47|    230|45.8|                   0.551| 31|      1|\n",
      "|          7|    107|           74|           20|     79|29.6|                   0.254| 31|      1|\n",
      "|          1|    103|           30|           38|     83|43.3|                   0.183| 33|      0|\n",
      "|          1|    115|           70|           30|     96|34.6|                   0.529| 32|      1|\n",
      "+-----------+-------+-------------+-------------+-------+----+------------------------+---+-------+\n",
      "only showing top 20 rows\n",
      "\n"
     ]
    }
   ],
   "source": [
    "# Display the data\n",
    "diabetes_df.show()"
   ]
  },
  {
   "cell_type": "code",
   "execution_count": 17,
   "id": "0aa7c067",
   "metadata": {},
   "outputs": [
    {
     "name": "stdout",
     "output_type": "stream",
     "text": [
      " The Correlation to Outcome for Pregnancies is 0.22189815303398638 \n",
      " The Correlation to Outcome for Glucose is 0.49288410274882094 \n",
      " The Correlation to Outcome for BloodPressure is 0.16287909949861834 \n",
      " The Correlation to Outcome for SkinThickness is 0.171856814176564 \n",
      " The Correlation to Outcome for Insulin is 0.17869558803050842 \n",
      " The Correlation to Outcome for BMI is 0.31289043493401536 \n",
      " The Correlation to Outcome for DiabetesPedigreeFunction is 0.17384406565296007 \n",
      " The Correlation to Outcome for Age is 0.23835598302719757 \n",
      " The Correlation to Outcome for Outcome is 1.0 \n"
     ]
    }
   ],
   "source": [
    "# Correlation Analysis\n",
    "for col in diabetes_df.columns:\n",
    "    print(\" The Correlation to Outcome for {} is {} \".format(col,diabetes_df.stat.corr(\"Outcome\",col)))"
   ]
  },
  {
   "cell_type": "code",
   "execution_count": 19,
   "id": "a6c924e4",
   "metadata": {},
   "outputs": [],
   "source": [
    "# Feature selection\n",
    "from pyspark.ml.feature import VectorAssembler\n",
    "feature_assembler = VectorAssembler(inputCols = ['Pregnancies',\n",
    " 'Glucose',\n",
    " 'BloodPressure',\n",
    " 'SkinThickness',\n",
    " 'Insulin',\n",
    " 'BMI',\n",
    " 'DiabetesPedigreeFunction',\n",
    " 'Age'],outputCol = 'features')"
   ]
  },
  {
   "cell_type": "code",
   "execution_count": 22,
   "id": "e86020f8",
   "metadata": {},
   "outputs": [
    {
     "name": "stdout",
     "output_type": "stream",
     "text": [
      "+-----------+-------+-------------+-------------+-------+----+------------------------+---+-------+--------------------+\n",
      "|Pregnancies|Glucose|BloodPressure|SkinThickness|Insulin| BMI|DiabetesPedigreeFunction|Age|Outcome|            features|\n",
      "+-----------+-------+-------------+-------------+-------+----+------------------------+---+-------+--------------------+\n",
      "|          6|    148|           72|           35|     79|33.6|                   0.627| 50|      1|[6.0,148.0,72.0,3...|\n",
      "|          1|     85|           66|           29|     79|26.6|                   0.351| 31|      0|[1.0,85.0,66.0,29...|\n",
      "|          8|    183|           64|           20|     79|23.3|                   0.672| 32|      1|[8.0,183.0,64.0,2...|\n",
      "|          1|     89|           66|           23|     94|28.1|                   0.167| 21|      0|[1.0,89.0,66.0,23...|\n",
      "|          0|    137|           40|           35|    168|43.1|                   2.288| 33|      1|[0.0,137.0,40.0,3...|\n",
      "|          5|    116|           74|           20|     79|25.6|                   0.201| 30|      0|[5.0,116.0,74.0,2...|\n",
      "|          3|     78|           50|           32|     88|31.0|                   0.248| 26|      1|[3.0,78.0,50.0,32...|\n",
      "|         10|    115|           69|           20|     79|35.3|                   0.134| 29|      0|[10.0,115.0,69.0,...|\n",
      "|          2|    197|           70|           45|    543|30.5|                   0.158| 53|      1|[2.0,197.0,70.0,4...|\n",
      "|          8|    125|           96|           20|     79|31.0|                   0.232| 54|      1|[8.0,125.0,96.0,2...|\n",
      "|          4|    110|           92|           20|     79|37.6|                   0.191| 30|      0|[4.0,110.0,92.0,2...|\n",
      "|         10|    168|           74|           20|     79|38.0|                   0.537| 34|      1|[10.0,168.0,74.0,...|\n",
      "|         10|    139|           80|           20|     79|27.1|                   1.441| 57|      0|[10.0,139.0,80.0,...|\n",
      "|          1|    189|           60|           23|    846|30.1|                   0.398| 59|      1|[1.0,189.0,60.0,2...|\n",
      "|          5|    166|           72|           19|    175|25.8|                   0.587| 51|      1|[5.0,166.0,72.0,1...|\n",
      "|          7|    100|           69|           20|     79|30.0|                   0.484| 32|      1|[7.0,100.0,69.0,2...|\n",
      "|          0|    118|           84|           47|    230|45.8|                   0.551| 31|      1|[0.0,118.0,84.0,4...|\n",
      "|          7|    107|           74|           20|     79|29.6|                   0.254| 31|      1|[7.0,107.0,74.0,2...|\n",
      "|          1|    103|           30|           38|     83|43.3|                   0.183| 33|      0|[1.0,103.0,30.0,3...|\n",
      "|          1|    115|           70|           30|     96|34.6|                   0.529| 32|      1|[1.0,115.0,70.0,3...|\n",
      "+-----------+-------+-------------+-------------+-------+----+------------------------+---+-------+--------------------+\n",
      "only showing top 20 rows\n",
      "\n"
     ]
    }
   ],
   "source": [
    "output_data = feature_assembler.transform(diabetes_df)\n",
    "output_data.show()"
   ]
  },
  {
   "cell_type": "code",
   "execution_count": 23,
   "id": "4f4b64c4",
   "metadata": {},
   "outputs": [
    {
     "name": "stdout",
     "output_type": "stream",
     "text": [
      "root\n",
      " |-- Pregnancies: integer (nullable = true)\n",
      " |-- Glucose: integer (nullable = true)\n",
      " |-- BloodPressure: integer (nullable = true)\n",
      " |-- SkinThickness: integer (nullable = true)\n",
      " |-- Insulin: integer (nullable = true)\n",
      " |-- BMI: double (nullable = true)\n",
      " |-- DiabetesPedigreeFunction: double (nullable = true)\n",
      " |-- Age: integer (nullable = true)\n",
      " |-- Outcome: integer (nullable = true)\n",
      " |-- features: vector (nullable = true)\n",
      "\n"
     ]
    }
   ],
   "source": [
    "#Print the schema\n",
    "output_data.printSchema()"
   ]
  },
  {
   "cell_type": "markdown",
   "id": "6fdacf4f",
   "metadata": {},
   "source": [
    "Machine Learning\n"
   ]
  },
  {
   "cell_type": "code",
   "execution_count": 24,
   "id": "a4809210",
   "metadata": {},
   "outputs": [],
   "source": [
    "# import Logistic regression and create final dataframe\n",
    "from pyspark.ml.classification import LogisticRegression\n",
    "final_data = output_data.select('features','Outcome')"
   ]
  },
  {
   "cell_type": "code",
   "execution_count": 25,
   "id": "7af42470",
   "metadata": {},
   "outputs": [
    {
     "name": "stdout",
     "output_type": "stream",
     "text": [
      "root\n",
      " |-- features: vector (nullable = true)\n",
      " |-- Outcome: integer (nullable = true)\n",
      "\n"
     ]
    }
   ],
   "source": [
    "# print the Schema\n",
    "final_data.printSchema()"
   ]
  },
  {
   "cell_type": "code",
   "execution_count": 26,
   "id": "5c36d72c",
   "metadata": {},
   "outputs": [],
   "source": [
    "# Split the dataset into test and train\n",
    "train,test = final_data.randomSplit([0.75,0.25])"
   ]
  },
  {
   "cell_type": "code",
   "execution_count": 27,
   "id": "72a208af",
   "metadata": {},
   "outputs": [
    {
     "name": "stderr",
     "output_type": "stream",
     "text": [
      "\r",
      "[Stage 80:>                                                         (0 + 1) / 1]\r",
      "\r",
      "                                                                                \r"
     ]
    },
    {
     "name": "stdout",
     "output_type": "stream",
     "text": [
      "23/02/05 16:51:56 WARN InstanceBuilder$NativeBLAS: Failed to load implementation from:dev.ludovic.netlib.blas.JNIBLAS\n",
      "23/02/05 16:51:56 WARN InstanceBuilder$NativeBLAS: Failed to load implementation from:dev.ludovic.netlib.blas.ForeignLinkerBLAS\n"
     ]
    }
   ],
   "source": [
    "# Build and train the model\n",
    "models = LogisticRegression(labelCol = 'Outcome')\n",
    "model = models.fit(train)"
   ]
  },
  {
   "cell_type": "code",
   "execution_count": 29,
   "id": "f79fef46",
   "metadata": {},
   "outputs": [
    {
     "name": "stdout",
     "output_type": "stream",
     "text": [
      "Coefficients :  [0.132799058218365,0.03957911904211467,-0.016170703359743594,0.00862808941216656,-0.0021931465975932782,0.08048938191459552,0.8643868743327963,0.01761577489644412]\n"
     ]
    }
   ],
   "source": [
    "# Coefficients\n",
    "print(\"Coefficients : \",model.coefficients)"
   ]
  },
  {
   "cell_type": "code",
   "execution_count": 30,
   "id": "022ee33a",
   "metadata": {},
   "outputs": [
    {
     "name": "stdout",
     "output_type": "stream",
     "text": [
      "Intercept :  -8.539733824956494\n"
     ]
    }
   ],
   "source": [
    "# Intercept\n",
    "print(\"Intercept : \",model.intercept)"
   ]
  },
  {
   "cell_type": "code",
   "execution_count": 28,
   "id": "a816c4d2",
   "metadata": {},
   "outputs": [
    {
     "name": "stdout",
     "output_type": "stream",
     "text": [
      "+-------+-------------------+-------------------+\n",
      "|summary|            Outcome|         prediction|\n",
      "+-------+-------------------+-------------------+\n",
      "|  count|                600|                600|\n",
      "|   mean|0.34833333333333333|               0.26|\n",
      "| stddev|0.47683978706315305|0.43900023007207967|\n",
      "|    min|                0.0|                0.0|\n",
      "|    max|                1.0|                1.0|\n",
      "+-------+-------------------+-------------------+\n",
      "\n"
     ]
    }
   ],
   "source": [
    "# Summary of the model\n",
    "summary = model.summary\n",
    "summary.predictions.describe().show()"
   ]
  },
  {
   "cell_type": "code",
   "execution_count": 32,
   "id": "efddd814",
   "metadata": {},
   "outputs": [
    {
     "name": "stdout",
     "output_type": "stream",
     "text": [
      "The accuracy :  0.7783333333333333\n"
     ]
    }
   ],
   "source": [
    "# print accuracy\n",
    "print(\"The accuracy : \",summary.accuracy)"
   ]
  },
  {
   "cell_type": "code",
   "execution_count": 35,
   "id": "b9359141",
   "metadata": {},
   "outputs": [],
   "source": [
    "# Evaluate the model\n",
    "from pyspark.ml.evaluation import BinaryClassificationEvaluator\n",
    "predictions = model.evaluate(test)"
   ]
  },
  {
   "cell_type": "code",
   "execution_count": 36,
   "id": "67fffae3",
   "metadata": {},
   "outputs": [
    {
     "name": "stdout",
     "output_type": "stream",
     "text": [
      "+--------------------+-------+--------------------+--------------------+----------+\n",
      "|            features|Outcome|       rawPrediction|         probability|prediction|\n",
      "+--------------------+-------+--------------------+--------------------+----------+\n",
      "|[0.0,78.0,88.0,29...|      0|[2.99796233734555...|[0.95248198709127...|       0.0|\n",
      "|[0.0,91.0,80.0,20...|      0|[2.62940864615918...|[0.93273045479119...|       0.0|\n",
      "|[0.0,93.0,60.0,25...|      0|[2.65773908148315...|[0.93448638546640...|       0.0|\n",
      "|[0.0,95.0,80.0,45...|      0|[2.20575899244606...|[0.90076547954559...|       0.0|\n",
      "|[0.0,97.0,64.0,36...|      0|[1.72315198234839...|[0.84853438622524...|       0.0|\n",
      "|[0.0,99.0,69.0,20...|      0|[3.11940488978313...|[0.95768611882616...|       0.0|\n",
      "|[0.0,100.0,70.0,2...|      0|[2.23405496131886...|[0.90326624650584...|       0.0|\n",
      "|[0.0,100.0,88.0,6...|      0|[0.58387230890674...|[0.64195793699241...|       0.0|\n",
      "|[0.0,102.0,52.0,2...|      0|[2.88660011525437...|[0.94718004368028...|       0.0|\n",
      "|[0.0,102.0,64.0,4...|      0|[1.24522595111003...|[0.77647235654388...|       0.0|\n",
      "|[0.0,107.0,62.0,3...|      1|[1.17015524725600...|[0.76317307625174...|       0.0|\n",
      "|[0.0,117.0,66.0,3...|      0|[1.82832136760514...|[0.86156163248384...|       0.0|\n",
      "|[0.0,119.0,66.0,2...|      0|[1.10297398130902...|[0.75081692528080...|       0.0|\n",
      "|[0.0,125.0,68.0,2...|      0|[2.15656586389287...|[0.89628074001424...|       0.0|\n",
      "|[0.0,128.0,68.0,1...|      1|[0.70636444176082...|[0.66959733725140...|       0.0|\n",
      "|[0.0,135.0,68.0,4...|      1|[0.33908681518738...|[0.58396868238650...|       0.0|\n",
      "|[0.0,137.0,68.0,1...|      0|[1.93111952198593...|[0.87337328225377...|       0.0|\n",
      "|[0.0,141.0,69.0,2...|      1|[-0.0252532096067...|[0.49368703308926...|       1.0|\n",
      "|[0.0,141.0,84.0,2...|      0|[0.89666284038955...|[0.71026323282146...|       0.0|\n",
      "|[0.0,146.0,70.0,2...|      1|[0.06133398526558...|[0.51532869125465...|       0.0|\n",
      "+--------------------+-------+--------------------+--------------------+----------+\n",
      "only showing top 20 rows\n",
      "\n"
     ]
    }
   ],
   "source": [
    "# Display predictions\n",
    "predictions.predictions.show()"
   ]
  },
  {
   "cell_type": "code",
   "execution_count": 37,
   "id": "ef2b4e3e",
   "metadata": {},
   "outputs": [
    {
     "data": {
      "text/plain": [
       "0.8575649199191415"
      ]
     },
     "execution_count": 37,
     "metadata": {},
     "output_type": "execute_result"
    }
   ],
   "source": [
    "evaluator = BinaryClassificationEvaluator(rawPredictionCol = 'rawPrediction',labelCol = 'Outcome')\n",
    "evaluator.evaluate(model.transform(test))"
   ]
  },
  {
   "cell_type": "code",
   "execution_count": 38,
   "id": "738c0750",
   "metadata": {},
   "outputs": [
    {
     "name": "stderr",
     "output_type": "stream",
     "text": [
      "                                                                                \r"
     ]
    }
   ],
   "source": [
    "# Save the model\n",
    "model.save('model')"
   ]
  },
  {
   "cell_type": "code",
   "execution_count": null,
   "id": "c913aa3a",
   "metadata": {},
   "outputs": [],
   "source": []
  }
 ],
 "metadata": {
  "kernelspec": {
   "display_name": "Python 3 (ipykernel)",
   "language": "python",
   "name": "python3"
  },
  "language_info": {
   "codemirror_mode": {
    "name": "ipython",
    "version": 3
   },
   "file_extension": ".py",
   "mimetype": "text/x-python",
   "name": "python",
   "nbconvert_exporter": "python",
   "pygments_lexer": "ipython3",
   "version": "3.9.12"
  }
 },
 "nbformat": 4,
 "nbformat_minor": 5
}
